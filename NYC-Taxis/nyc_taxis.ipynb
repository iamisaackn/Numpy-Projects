{
 "cells": [
  {
   "cell_type": "code",
   "execution_count": 10,
   "metadata": {},
   "outputs": [],
   "source": [
    "# Import necessary libraries\n",
    "\n",
    "import numpy as np"
   ]
  },
  {
   "cell_type": "code",
   "execution_count": 11,
   "metadata": {},
   "outputs": [],
   "source": [
    "# The np.genfromtxt function is used to load data from a text file, with 'nyc_taxis.csv' as the file name.\n",
    "# The delimiter parameter is set to ',' indicating that the fields in our file are separated by commas.\n",
    "# The skip_header parameter is set to True, which means the first line of the file, often containing column headers, will be skipped.\n",
    "# The data is loaded as a 2D array and stored in the variable 'taxis'.\n",
    "\n",
    "taxi = np.genfromtxt('nyc_taxis.csv', delimiter = ',', skip_header = True)"
   ]
  },
  {
   "cell_type": "code",
   "execution_count": 26,
   "metadata": {},
   "outputs": [
    {
     "name": "stdout",
     "output_type": "stream",
     "text": [
      "[37.11340206 38.58157895 31.27222982 ... 22.29907867 42.41551247\n",
      " 36.90473407]\n",
      "32.24258580925573\n"
     ]
    }
   ],
   "source": [
    "# Q1) Find mean speed of the rides.\n",
    "# Speed = D(km) / T(Hrs)\n",
    "# Mean = Total.S/No.of Trips\n",
    "\n",
    "# Speed = D(km) * T(Hrs)\n",
    "distance = taxi[:, 7]\n",
    "time = (taxi[:, 8])/3600 # Transform from sec to hrs\n",
    "\n",
    "speed = distance / time\n",
    "print(speed)\n",
    "\n",
    "# Mean of the speed\n",
    "mean_speed = speed.mean()\n",
    "print(mean_speed)"
   ]
  },
  {
   "cell_type": "code",
   "execution_count": 29,
   "metadata": {},
   "outputs": [
    {
     "name": "stdout",
     "output_type": "stream",
     "text": [
      "13333\n"
     ]
    }
   ],
   "source": [
    "# Q2) Find the number of rides take in February.\n",
    "\n",
    "# 'taxi[:, 1] == 2' is a condition that checks if the month is February (2).\n",
    "# 'taxi[taxi[:, 1] == 2, 1]' selects all rows from 'taxi' where the month is February.\n",
    "Rides_February = taxi[taxi[:, 1] == 2, 1]\n",
    "\n",
    "# Dispay the Rides_February array\n",
    "print(Rides_February.shape[0])"
   ]
  },
  {
   "cell_type": "code",
   "execution_count": 43,
   "metadata": {},
   "outputs": [
    {
     "name": "stdout",
     "output_type": "stream",
     "text": [
      "16\n"
     ]
    }
   ],
   "source": [
    "# Q3) Number of rides where tips are more than $50\n",
    "Above_50 = taxi[:, -3] > 50\n",
    "print(taxi[Above_50, -3].shape[0])"
   ]
  },
  {
   "cell_type": "code",
   "execution_count": 47,
   "metadata": {},
   "outputs": [
    {
     "name": "stdout",
     "output_type": "stream",
     "text": [
      "11832\n"
     ]
    }
   ],
   "source": [
    "# Q4) Number of rides where drop was JFK airport\n",
    "No_JFK = taxi[:, 6] == 2\n",
    "\n",
    "print(taxi[No_JFK, 6].shape[0])"
   ]
  }
 ],
 "metadata": {
  "kernelspec": {
   "display_name": "Python 3",
   "language": "python",
   "name": "python3"
  },
  "language_info": {
   "codemirror_mode": {
    "name": "ipython",
    "version": 3
   },
   "file_extension": ".py",
   "mimetype": "text/x-python",
   "name": "python",
   "nbconvert_exporter": "python",
   "pygments_lexer": "ipython3",
   "version": "3.10.12"
  }
 },
 "nbformat": 4,
 "nbformat_minor": 2
}
